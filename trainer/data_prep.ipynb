{
 "cells": [
  {
   "cell_type": "code",
   "execution_count": 1,
   "metadata": {},
   "outputs": [],
   "source": [
    "import os\n",
    "import pandas as pd"
   ]
  },
  {
   "cell_type": "code",
   "execution_count": 2,
   "metadata": {},
   "outputs": [],
   "source": [
    "def prepare_translation_datasets(data_path):\n",
    "    with open(os.path.join(data_path, \"train.trg\"), \"r\", encoding=\"utf-8\") as f:\n",
    "        sinhala_text = f.readlines()\n",
    "        sinhala_text = [text.strip(\"\\n\") for text in sinhala_text]\n",
    "\n",
    "    with open(os.path.join(data_path, \"train.src\"), \"r\") as f:\n",
    "        english_text = f.readlines()\n",
    "        english_text = [text.strip(\"\\n\") for text in english_text]\n",
    "\n",
    "    data = []\n",
    "    for sinhala, english in zip(sinhala_text, english_text):\n",
    "        data.append([\"translate sinhala to english\", sinhala, english])\n",
    "        data.append([\"translate english to sinhala\", english, sinhala])\n",
    "\n",
    "    train_df = pd.DataFrame(data, columns=[\"prefix\", \"input_text\", \"target_text\"])\n",
    "\n",
    "    with open(os.path.join(data_path, \"test.trg\"), \"r\", encoding=\"utf-8\") as f:\n",
    "        sinhala_text = f.readlines()\n",
    "        sinhala_text = [text.strip(\"\\n\") for text in sinhala_text]\n",
    "\n",
    "    with open(os.path.join(data_path, \"test.src\"), \"r\") as f:\n",
    "        english_text = f.readlines()\n",
    "        english_text = [text.strip(\"\\n\") for text in english_text]\n",
    "\n",
    "    data = []\n",
    "    for sinhala, english in zip(sinhala_text, english_text):\n",
    "        data.append([\"translate sinhala to english\", sinhala, english])\n",
    "        data.append([\"translate english to sinhala\", english, sinhala])\n",
    "\n",
    "    eval_df = pd.DataFrame(data, columns=[\"prefix\", \"input_text\", \"target_text\"])\n",
    "\n",
    "    return train_df, eval_df"
   ]
  },
  {
   "cell_type": "code",
   "execution_count": null,
   "metadata": {},
   "outputs": [],
   "source": [
    "train_df, eval_df = prepare_translation_datasets(\"data/eng-spa\")"
   ]
  },
  {
   "cell_type": "code",
   "execution_count": null,
   "metadata": {},
   "outputs": [],
   "source": [
    "train_df"
   ]
  },
  {
   "cell_type": "code",
   "execution_count": null,
   "metadata": {},
   "outputs": [],
   "source": [
    "train_df.to_csv(\"data/train.tsv\", sep=\"\\t\")\n",
    "eval_df.to_csv(\"data/eval.tsv\", sep=\"\\t\")"
   ]
  },
  {
   "cell_type": "code",
   "execution_count": null,
   "metadata": {},
   "outputs": [],
   "source": []
  }
 ],
 "metadata": {
  "kernelspec": {
   "display_name": "mt5_trainer",
   "language": "python",
   "name": "mt5_trainer"
  },
  "language_info": {
   "codemirror_mode": {
    "name": "ipython",
    "version": 3
   },
   "file_extension": ".py",
   "mimetype": "text/x-python",
   "name": "python",
   "nbconvert_exporter": "python",
   "pygments_lexer": "ipython3",
   "version": "3.7.9"
  }
 },
 "nbformat": 4,
 "nbformat_minor": 2
}
